{
 "cells": [
  {
   "cell_type": "markdown",
   "id": "bfba4006-39b7-4f6e-b7a8-2331ab45305c",
   "metadata": {},
   "source": [
    "# SqlAlchemy Relations Lab"
   ]
  },
  {
   "cell_type": "markdown",
   "id": "8e0c438b-078f-42e9-84bb-ef5f7139714f",
   "metadata": {},
   "source": [
    "### Introduction\n",
    "\n",
    "So far we have seen how to set up sqlalchemy and use it to perform some single table queries.  It turns out that we can also use sqlalchemy to perform some of our relational queries.  \n",
    "\n",
    "Let's get started."
   ]
  },
  {
   "cell_type": "markdown",
   "id": "fd7f3549-95cd-4c53-b7f9-d32ee18e161d",
   "metadata": {},
   "source": [
    "### Loading our Data"
   ]
  },
  {
   "cell_type": "markdown",
   "id": "27125386-608a-4a00-8c3a-70158864659f",
   "metadata": {},
   "source": [
    "Let's begin connecting to postgres, and then creating a database called `moes_bar_test`.  \n",
    "\n",
    "```sql\n",
    "create database moes_bar_test;\n",
    "```"
   ]
  },
  {
   "cell_type": "markdown",
   "id": "5d205f08-f130-41ba-b754-96320baf56ff",
   "metadata": {},
   "source": [
    "From there, run the `migrations/create_tables.sql` file against the database to create the necessary table."
   ]
  },
  {
   "cell_type": "markdown",
   "id": "73458b01-e133-45ea-9009-c592da765e39",
   "metadata": {},
   "source": [
    "We should also have a development database called `moes_bar`.  Probably best to start this fresh. \n",
    "\n",
    "Recreate the database."
   ]
  },
  {
   "cell_type": "markdown",
   "id": "c6d5d924-afac-4e1f-bfbd-f4f0dbcf68fa",
   "metadata": {},
   "source": [
    "```sql\n",
    "drop database moes_bar;\n",
    "create database moes_bar;\n",
    "```"
   ]
  },
  {
   "cell_type": "markdown",
   "id": "01fc1d09-c465-451e-9a48-975d8ab5094e",
   "metadata": {},
   "source": [
    "Then rhn the same `migrations/create_tables.sql` against our development database, `moes_bar`, and then run the `migrations/seed.sql` file against the database to seed the table with some initial data."
   ]
  },
  {
   "cell_type": "markdown",
   "id": "1cd202de-309b-426a-a239-e897cd796781",
   "metadata": {},
   "source": [
    "### Seeing our relations"
   ]
  },
  {
   "cell_type": "markdown",
   "id": "3d23814f-4715-4677-8dfd-c7c591aff0f1",
   "metadata": {},
   "source": [
    "Now let's dive directly into our flask shell."
   ]
  },
  {
   "cell_type": "markdown",
   "id": "6c87b40d-87cb-4f4d-a6eb-0e7a55338730",
   "metadata": {},
   "source": [
    "```bash\n",
    "flask shell\n",
    "```"
   ]
  },
  {
   "cell_type": "markdown",
   "id": "d2416bbc-b07f-4dc1-ac48-880e25f8ddf8",
   "metadata": {},
   "source": [
    "Log into the flask shell and run the following:"
   ]
  },
  {
   "cell_type": "markdown",
   "id": "aef9490d-d46f-4307-a48e-650183edcf5f",
   "metadata": {},
   "source": [
    "```python \n",
    ">>> bartender = db.session.query(Bartender).first()\n",
    ">>> bartender.orders\n",
    "```"
   ]
  },
  {
   "cell_type": "markdown",
   "id": "fa9057ad-a597-4c6b-93e1-510b562ead7c",
   "metadata": {},
   "source": [
    "Again, we can see that a bartender has many orders, and an order has one bartender."
   ]
  },
  {
   "cell_type": "markdown",
   "id": "46fff325-e3b9-4198-ac19-6a7d41691023",
   "metadata": {},
   "source": [
    "We can see the related code for this in the Bartender class."
   ]
  },
  {
   "cell_type": "markdown",
   "id": "5a87b1e1-c70c-4e89-942f-f2a2ec8bcd38",
   "metadata": {},
   "source": [
    "```python\n",
    "# bartender.py\n",
    "\n",
    "orders = relationship('Order', backref=backref('bartender'), cascade='all, delete-orphan')\n",
    "```"
   ]
  },
  {
   "cell_type": "markdown",
   "id": "57fb8a20-dd01-43dc-8b12-8c610226a5c2",
   "metadata": {},
   "source": [
    "And we should see that the related tests pass in the `test_bartender.py` file.\n",
    "\n",
    "```bash\n",
    "pytest tests/test_bartender.py\n",
    "```\n",
    "\n",
    "> We still will have one failure though."
   ]
  },
  {
   "cell_type": "markdown",
   "id": "43097b0a-f440-4929-b6dd-1311eb95f245",
   "metadata": {},
   "source": [
    "Still let's see another way of defining this `bartender.orders` method.  Another way we can do this is by commenting out the current `orders` line, and replacing it with the following:\n",
    "```python\n",
    "# bartender.py\n",
    "orders = relationship('Order', back_populates='bartender')\n",
    "```\n",
    "\n",
    "Then in the order.py file we have the following:\n",
    "\n",
    "```python\n",
    "bartender = relationship('Bartender', back_populates = 'orders')\n",
    "```\n",
    "\n",
    "So implementing the code this way, we need to add both a bartender method, and an orders method in the respective files.  And the back_populates just says that when we add an `order.bartender`, that order will automatically be seen in the `bartender.orders` method. \n",
    "\n",
    "If you look at the first test in the `test_bartender.py` file, you can see that this is exactly what's being tested."
   ]
  },
  {
   "cell_type": "markdown",
   "id": "8d28fa47-e2d2-4889-80e2-c55795f062ae",
   "metadata": {},
   "source": [
    "```python\n",
    "assert len(first_bartender.orders) == 2\n",
    "```"
   ]
  },
  {
   "cell_type": "markdown",
   "id": "22a39e0d-d17f-428e-808c-8e78684004b4",
   "metadata": {},
   "source": [
    "### One to Many relationships"
   ]
  },
  {
   "cell_type": "markdown",
   "id": "bad44dd8-a91f-46aa-a6e5-ec8fcc73ebd2",
   "metadata": {},
   "source": [
    "Ok, so now that we have the set up the bartender.orders and order.bartenders relationship, let's move onto relationship between drinks and orders.\n",
    "\n",
    "> You will have to add **both** of the below methods to get your code in a working state.  If only one is implemented, your code will still be broken.\n",
    "\n",
    "* `drink.orders` - add the drink.orders method using the back_populates argument\n",
    "\n",
    "* `order.drink` - add the order.drink method also using back_populates.\n",
    "\n",
    "Confirm that the related test in `test_order.py` works, and that the related test in `test_drink.py` works."
   ]
  },
  {
   "cell_type": "markdown",
   "id": "40d260de-a13c-43a6-8203-868944cb42da",
   "metadata": {},
   "source": [
    "### Many to Many Relationships"
   ]
  },
  {
   "cell_type": "markdown",
   "id": "692a0e93-0aaf-434e-ae8b-2bf46defc959",
   "metadata": {},
   "source": [
    "Now that the one to many relationship is working, we should also see how to implement the many to many relationship.  One many to many relationship we have is that a drink has many bartenders and a bartender has many drinks."
   ]
  },
  {
   "cell_type": "markdown",
   "id": "9ab80f85-9211-41d0-9aeb-5b777cd347eb",
   "metadata": {},
   "source": [
    "* `drink.bartenders`"
   ]
  },
  {
   "cell_type": "markdown",
   "id": "79c78a24-a2d9-4502-96bd-485a492dff54",
   "metadata": {},
   "source": [
    "Let's take care of the drink's bartenders method first.\n",
    "\n",
    "Remember that what links a drink to a bartender is our join table of orders.  Now take a look at how we implement the `drink.bartenders` method."
   ]
  },
  {
   "cell_type": "markdown",
   "id": "f3a4883a-918f-4d12-a63f-8f62dc2b86bf",
   "metadata": {},
   "source": [
    "```python\n",
    "# drink.py\n",
    "bartenders = db.relationship('Bartender', secondary='orders')\n",
    "```"
   ]
  },
  {
   "cell_type": "markdown",
   "id": "372c82ae-9b36-46e4-8055-a0f7c5e37f55",
   "metadata": {},
   "source": [
    "So in the line above, we not only specify that the bartenders method should return Bartender instances, but also specify that to find the related bartenders, we need to query the orders table.  \n",
    "\n",
    "Move this line to the `Drink` class, and see that the related test in `test_drink.py` passes -- it's the test that tests that a drink has many bartenders."
   ]
  },
  {
   "cell_type": "markdown",
   "id": "34627ef2-e38b-4bcf-ad45-2dbe84dd2da5",
   "metadata": {},
   "source": [
    "* bartender.drinks"
   ]
  },
  {
   "cell_type": "markdown",
   "id": "aa1781e4-b776-4739-afd3-261803ebb729",
   "metadata": {},
   "source": [
    "Now a bartender has many drinks.  So we still need to add a `drinks` method to the bartender class.  Use the pattern above to add this method, and then run the `test_bartender.py` tests to confirm this passes."
   ]
  },
  {
   "cell_type": "markdown",
   "id": "1bd909f2-314f-4cdf-94ec-85ab78a396cf",
   "metadata": {},
   "source": [
    "### Add some tests"
   ]
  },
  {
   "cell_type": "markdown",
   "id": "d37abc13-1461-485e-bc60-680d855b73ab",
   "metadata": {},
   "source": [
    "Next, we added some code for the Customer class.  It's your job to fill in the some of the code for the each of the tests -- notice that there is currently not even an assert statement in either test."
   ]
  },
  {
   "cell_type": "markdown",
   "id": "8632dc47-e2ad-4adb-b3e4-b532e0a440e8",
   "metadata": {},
   "source": [
    "### Summary"
   ]
  }
 ],
 "metadata": {
  "kernelspec": {
   "display_name": "Python 3 (ipykernel)",
   "language": "python",
   "name": "python3"
  },
  "language_info": {
   "codemirror_mode": {
    "name": "ipython",
    "version": 3
   },
   "file_extension": ".py",
   "mimetype": "text/x-python",
   "name": "python",
   "nbconvert_exporter": "python",
   "pygments_lexer": "ipython3",
   "version": "3.9.12"
  }
 },
 "nbformat": 4,
 "nbformat_minor": 5
}
